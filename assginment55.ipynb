{
 "cells": [
  {
   "cell_type": "markdown",
   "id": "7eb218fd-d4e4-481e-a0b1-ee261dc0cd24",
   "metadata": {},
   "source": [
    "1. Bank account create a class representing a bank account with attributes..."
   ]
  },
  {
   "cell_type": "code",
   "execution_count": 11,
   "id": "ffd01a53-e5be-4a76-850d-5da654762d70",
   "metadata": {},
   "outputs": [
    {
     "name": "stdin",
     "output_type": "stream",
     "text": [
      "Enter the account_number of ur bank 4567\n",
      "Enter the account_holder_name xyz\n",
      "Enter the balance 5000\n",
      "Enter amount to be deposited:  4000\n"
     ]
    },
    {
     "name": "stdout",
     "output_type": "stream",
     "text": [
      "the amount deposite 4000.0\n"
     ]
    },
    {
     "name": "stdin",
     "output_type": "stream",
     "text": [
      "Enter amount to be Withdrawn:  5000\n"
     ]
    },
    {
     "name": "stdout",
     "output_type": "stream",
     "text": [
      "\n",
      " You Withdrew: 5000.0\n",
      "\n",
      " Net Available Balance= 4000.0\n"
     ]
    }
   ],
   "source": [
    "class bankaccount:\n",
    "    account_number=float(input(\"Enter the account_number of ur bank\"))\n",
    "    account_holder_name=(input(\"Enter the account_holder_name\"))\n",
    "    balance=int(input(\"Enter the balance\"))\n",
    "    def deposit(self):\n",
    "        amount = float(input(\"Enter amount to be deposited: \"))\n",
    "        self.balance+=amount\n",
    "        print(\"the amount deposite\",amount) \n",
    "        #here we can write a keyword self that can ve any thing which mean it is not a keyword\n",
    "    def withdraw(self):\n",
    "        amount = float(input(\"Enter amount to be Withdrawn: \"))\n",
    "        if self.balance>=amount:\n",
    "            self.balance-=amount\n",
    "            print(\"\\n You Withdrew:\", amount)\n",
    "        else:\n",
    "            print(\"\\n Insufficient balance  \")\n",
    " \n",
    "    def display(self):\n",
    "        print(\"\\n Net Available Balance=\",self.balance)\n",
    " \n",
    "a=bankaccount()\n",
    "a.deposit()\n",
    "a.withdraw()\n",
    "a.display()"
   ]
  },
  {
   "cell_type": "markdown",
   "id": "32582c34-38aa-4567-966d-cf8b163959cf",
   "metadata": {},
   "source": [
    "2.Employee amangement create a class represnting an employee......"
   ]
  },
  {
   "cell_type": "code",
   "execution_count": 14,
   "id": "2df3e139-2855-449c-850f-21cf57e6992c",
   "metadata": {},
   "outputs": [
    {
     "name": "stdin",
     "output_type": "stream",
     "text": [
      "enter the id of user: 345\n",
      "enter the name of employee: xyz\n",
      "enter the thge salary of the employee: 40000\n",
      "Enter the Current Year : 2023\n",
      "Enter the Year of Joining : 2021\n"
     ]
    },
    {
     "name": "stdout",
     "output_type": "stream",
     "text": [
      "No Bonus..\n",
      "\n",
      "Name:  xyz\n",
      "ID:  345\n",
      "Salary:  40000\n"
     ]
    }
   ],
   "source": [
    "class employee:\n",
    "    employee_id=int(input(\"enter the id of user:\"))\n",
    "    name=input(\"enter the name of employee:\")\n",
    "    salary=input(\"enter the thge salary of the employee:\")\n",
    "    def bonus(self):\n",
    "        current_year=int(input(\"Enter the Current Year :\"))\n",
    "        join_year=int(input(\"Enter the Year of Joining :\"))\n",
    "        diff=current_year-join_year\n",
    "        if(diff>3):\n",
    "            print(\"Bonus of Rs : 2500 /-\");\n",
    "        else:\n",
    "            print(\"No Bonus..\")\n",
    "    def display(self):\n",
    "        print(\"\\nName: \", self.name)\n",
    "        print(\"ID: \", self.employee_id)\n",
    "        print(\"Salary: \", self. salary)\n",
    "a=employee()\n",
    "a.bonus()\n",
    "a.display()\n"
   ]
  },
  {
   "cell_type": "markdown",
   "id": "d0916d8b-b7be-4344-9d7a-13e3c9fc6232",
   "metadata": {},
   "source": [
    "3.Vehicle rental create a class representing a vichle...."
   ]
  },
  {
   "cell_type": "code",
   "execution_count": 15,
   "id": "ac76257f-27b0-461d-b7c9-3b97b27d377f",
   "metadata": {},
   "outputs": [
    {
     "name": "stdout",
     "output_type": "stream",
     "text": [
      "the rent of vechile of two tyar is 200  per day\n",
      "But hafe payment is done on first day\n",
      "The hafe payment is done after returning vechile\n",
      "The avialable vichle is car,motor cycle\n"
     ]
    }
   ],
   "source": [
    "class vehiclersys:\n",
    "    def rent(self):\n",
    "        print(\"the rent of vechile of two tyar is\",200,\" per day\")\n",
    "        print(\"But hafe payment is done on first day\")\n",
    "    def vehicle_return(self):\n",
    "        print(\"The hafe payment is done after returning vechile\")\n",
    "    def display_vehicle(self):\n",
    "        print(\"The avialable vichle is car,motor cycle\")\n",
    "a=vehiclersys()\n",
    "a.rent()\n",
    "a.vehicle_return()\n",
    "a.display_vehicle()\n"
   ]
  },
  {
   "cell_type": "markdown",
   "id": "9e0080aa-5cb6-40ca-8553-48f21366a674",
   "metadata": {},
   "source": [
    "4.library catalog create classes representing library and a book implement method to add books to library ,borrow...."
   ]
  },
  {
   "cell_type": "code",
   "execution_count": null,
   "id": "d4a31b5b-e50e-4cd3-8c48-693e7a1d85a0",
   "metadata": {},
   "outputs": [],
   "source": [
    "class library:\n",
    "    def __int__(self,book=None):\n",
    "        if book is None:\n",
    "            self.book=[]\n",
    "        else:\n",
    "            self.book=book\n",
    "    \n",
    "        \n",
    "    def add(self,book):\n",
    "        self.book.append(book)\n",
    "    def get_library(self):\n",
    "        #Returns all books in Library\n",
    "        return self.books\n",
    "    def __str__(self):\n",
    "        return f\"Library has {len(self.books)}\"\n",
    "        \n",
    "class book:\n",
    "    "
   ]
  },
  {
   "cell_type": "markdown",
   "id": "fd491df7-9105-45a8-9d2b-d66ab0a66191",
   "metadata": {},
   "source": [
    "5.PROduct inventory create classes representing a product....."
   ]
  },
  {
   "cell_type": "code",
   "execution_count": 10,
   "id": "9285e372-622e-488e-a9d2-7becae7fc9b2",
   "metadata": {},
   "outputs": [
    {
     "name": "stdout",
     "output_type": "stream",
     "text": [
      "Inventory(products: [<__main__.Product object at 0x7f0ce41a08b0>, <__main__.Product object at 0x7f0ce41a2440>], fishing_list: [<__main__.Product object at 0x7f0ce41a08b0>], apparel_list: [], value: 0)\n"
     ]
    }
   ],
   "source": [
    "class Product:\n",
    "\n",
    "    def __init__(self, pid, price, quantity):\n",
    "        self.pid = pid \n",
    "        self.price = price\n",
    "        self.quantity = quantity\n",
    "\n",
    "    def __str__(self):\n",
    "        #Return the strinf representing the product\n",
    "        return \"Product ID: {}\\t Price: {}\\t Quantity: {}\\n\".format(self.pid, self.price, self.quantity)\n",
    "\n",
    "    def get_id(self):\n",
    "        #returns id \n",
    "        return self.pid\n",
    "\n",
    "    def get_price(self):\n",
    "        #returns price\n",
    "        return self.price\n",
    "\n",
    "    def get_quantity(self):\n",
    "        #returns quantity\n",
    "        return self.quantity\n",
    "\n",
    "    def increase_quantity(self):\n",
    "        self.quantity += 1\n",
    "\n",
    "    def decrease_quantity(self):\n",
    "        self.quantity -= 1 \n",
    "\n",
    "\n",
    "    def get_value(self):\n",
    "        value = self.quantity * self.price\n",
    "        return 'value is {}'.format(value)\n",
    "\n",
    "\n",
    "product_1 = Product('fishing', 20, 10)\n",
    "product_2 = Product('apparel', 35, 20)\n",
    "\n",
    "\n",
    "class Inventory:\n",
    "\n",
    "    def __init__(self, products):\n",
    "        self.products = products\n",
    "        self.fishing_list = []\n",
    "        self.apparel_list = []\n",
    "        self.value = 0 \n",
    "\n",
    "\n",
    "    def __repr__(self):\n",
    "        return \"Inventory(products: {}, fishing_list: {}, apparel_list: {}, value: {})\".format(self.products, self.fishing_list, self.apparel_list, self.value)\n",
    "\n",
    "    def add_fishing(self):\n",
    "        for product in self.products:\n",
    "            if product.get_id() == 'fishing':\n",
    "                self.fishing_list.append(product)\n",
    "        return '{} is in the fishing section'.format(self.fishing_list)\n",
    "\n",
    "    def add_apparel(self):\n",
    "        for product in self.products:\n",
    "            if product.get_id() == 'apparel':\n",
    "                self.apparel_list.append(product)\n",
    "        return '{} is in the apparel section'.format(self.apparel_list)\n",
    "\n",
    "\n",
    "inventory_1 = Inventory([product_1, product_2])\n",
    "inventory_1.add_fishing()\n",
    "print(inventory_1)"
   ]
  },
  {
   "cell_type": "markdown",
   "id": "cb6ba5ad-3d38-4330-a2b7-5ab4b6cff701",
   "metadata": {},
   "source": [
    "6.SHAPE CALCULATION CREATE A CLASS...."
   ]
  },
  {
   "cell_type": "code",
   "execution_count": 11,
   "id": "d2945248-32fc-4fcf-ba65-1223795ef898",
   "metadata": {},
   "outputs": [
    {
     "name": "stdout",
     "output_type": "stream",
     "text": [
      "Radius of the circle: 7\n",
      "Circle Area: 153.93804002589985\n",
      "Circle Perimeter: 43.982297150257104\n",
      "\n",
      "Rectangle: Length = 5  Width = 7\n",
      "Rectangle Area: 35\n",
      "Rectangle Perimeter: 24\n",
      "\n",
      "Triangle: Base = 5  Height = 4  side1 = 4  side2 = 3  side3 = 5\n",
      "Triangle Area: 10.0\n",
      "Triangle Perimeter: 12\n"
     ]
    }
   ],
   "source": [
    "# Import the math module to access mathematical functions like pi\n",
    "import math\n",
    "\n",
    "# Define a base class called Shape to represent a generic shape with methods for calculating area and perimeter\n",
    "class Shape:\n",
    "    # Placeholder method for calculating area (to be implemented in derived classes)\n",
    "    def calculate_area(self):\n",
    "        pass\n",
    "\n",
    "    # Placeholder method for calculating perimeter (to be implemented in derived classes)\n",
    "    def calculate_perimeter(self):\n",
    "        pass\n",
    "# Define a derived class called Circle, which inherits from the Shape class\n",
    "class Circle(Shape):\n",
    "    # Initialize the Circle object with a given radius\n",
    "    def __init__(self, radius):\n",
    "        self.radius = radius\n",
    "\n",
    "    # Calculate and return the area of the circle using the formula: π * r^2\n",
    "    def calculate_area(self):\n",
    "        return math.pi * self.radius**2\n",
    "\n",
    "    # Calculate and return the perimeter of the circle using the formula: 2π * r\n",
    "    def calculate_perimeter(self):\n",
    "        return 2 * math.pi * self.radius\n",
    "class Rectangle(Shape):\n",
    "    # Initialize the Rectangle object with given length and width\n",
    "    def __init__(self, length, width):\n",
    "        self.length = length\n",
    "        self.width = width\n",
    "\n",
    "    # Calculate and return the area of the rectangle using the formula: length * width\n",
    "    def calculate_area(self):\n",
    "        return self.length * self.width\n",
    "\n",
    "    # Calculate and return the perimeter of the rectangle using the formula: 2 * (length + width)\n",
    "    def calculate_perimeter(self):\n",
    "        return 2 * (self.length + self.width)\n",
    "\n",
    "# Define a derived class called Triangle, which inherits from the Shape class\n",
    "class Triangle(Shape):\n",
    "    # Initialize the Triangle object with a base, height, and three side lengths\n",
    "    def __init__(self, base, height, side1, side2, side3):\n",
    "        self.base = base\n",
    "        self.height = height\n",
    "        self.side1 = side1\n",
    "        self.side2 = side2\n",
    "        self.side3 = side3\n",
    "\n",
    "    # Calculate and return the area of the triangle using the formula: 0.5 * base * height\n",
    "    def calculate_area(self):\n",
    "        return 0.5 * self.base * self.height\n",
    "\n",
    "    # Calculate and return the perimeter of the triangle by adding the lengths of its three sides\n",
    "    def calculate_perimeter(self):\n",
    "        return self.side1 + self.side2 + self.side3\n",
    "r = 7\n",
    "circle = Circle(r)\n",
    "circle_area = circle.calculate_area()\n",
    "circle_perimeter = circle.calculate_perimeter()\n",
    "\n",
    "# Print the results for the Circle\n",
    "print(\"Radius of the circle:\", r)\n",
    "print(\"Circle Area:\", circle_area)\n",
    "print(\"Circle Perimeter:\", circle_perimeter)\n",
    "l = 5\n",
    "w = 7\n",
    "rectangle = Rectangle(l, w)\n",
    "rectangle_area = rectangle.calculate_area()\n",
    "rectangle_perimeter = rectangle.calculate_perimeter()\n",
    "\n",
    "# Print the results for the Rectangle\n",
    "print(\"\\nRectangle: Length =\", l, \" Width =\", w)\n",
    "print(\"Rectangle Area:\", rectangle_area)\n",
    "print(\"Rectangle Perimeter:\", rectangle_perimeter)\n",
    "base = 5\n",
    "height = 4\n",
    "s1 = 4\n",
    "s2 = 3\n",
    "s3 = 5\n",
    "\n",
    "# Print the results for the Triangle\n",
    "print(\"\\nTriangle: Base =\", base, \" Height =\", height, \" side1 =\", s1, \" side2 =\", s2, \" side3 =\", s3)\n",
    "triangle = Triangle(base, height, s1, s2, s3)\n",
    "triangle_area = triangle.calculate_area()\n",
    "triangle_perimeter = triangle.calculate_perimeter()\n",
    "print(\"Triangle Area:\", triangle_area)\n",
    "print(\"Triangle Perimeter:\", triangle_perimeter)\n",
    "    "
   ]
  },
  {
   "cell_type": "markdown",
   "id": "29338a91-5f14-45d7-b4d3-dadf0c084b97",
   "metadata": {},
   "source": [
    "7.student mangaeemnt create represending a student with attribute like student ..."
   ]
  },
  {
   "cell_type": "code",
   "execution_count": 15,
   "id": "8cf55c5d-10c5-4969-bf99-fc6f457938ff",
   "metadata": {},
   "outputs": [],
   "source": [
    "class student:\n",
    "    def __int__(self,name,rollno,m1,m2,m3,m4):\n",
    "        self.name = name\n",
    "        self.rollno = rollno\n",
    "        self.m1 = m1\n",
    "        self.m2 = m2\n",
    "        self.m3=m3\n",
    "        self.m4=m4\n",
    "    # Function to create and append new student\n",
    "    def accept(self, Name, Rollno, marks1, marks2,marks3,marks4):\n",
    "   \n",
    "  # use ' int(input()) ' method to take input from user\n",
    "        ob = Student(Name, Rollno, marks1, marks2,marks3,marks4)\n",
    "        ls.append(ob)\n",
    "    def avg(self):\n",
    "        self.total=total\n",
    "        total=m1+m2+m3+m4\n",
    "        self.avg=avg\n",
    "        avg=total/4;\n",
    " \n",
    "    # Function to display student details\n",
    "    def display(self, ob):\n",
    "        print(\"Name : \", ob.name)\n",
    "        print(\"RollNo : \", ob.rollno)\n",
    "        print(\"Marks1 : \", ob.m1)\n",
    "        print(\"Marks2 : \", ob.m2)\n",
    "        print(\"Marks3 : \", ob.m3)\n",
    "        print(\"Marks4 : \", ob.m4)\n",
    "        print(\"\\n\")\n",
    "    def display(self):\n",
    "        print(\"avg\",avg)\n"
   ]
  },
  {
   "cell_type": "markdown",
   "id": "e76fdece-c94d-4c64-815f-839ed6c1a45c",
   "metadata": {},
   "source": [
    "8.email management sytem....."
   ]
  },
  {
   "cell_type": "code",
   "execution_count": 17,
   "id": "6685d4bc-886d-4513-ab73-67d0b34ca0f4",
   "metadata": {},
   "outputs": [
    {
     "name": "stdout",
     "output_type": "stream",
     "text": [
      "From: John Doe\n",
      "To: Jane Doe\n"
     ]
    }
   ],
   "source": [
    "class Message:\n",
    "  def __init__(self, sender, recipient):\n",
    "    self.sender = sender\n",
    "    self.recipient = recipient\n",
    " \n",
    "p1 = Message(\"From: John Doe\", \"To: Jane Doe\")\n",
    " \n",
    "print(p1.sender)\n",
    "print(p1.recipient)"
   ]
  },
  {
   "cell_type": "code",
   "execution_count": null,
   "id": "316ccc12-439a-4116-a8b4-9a0a70c997c1",
   "metadata": {},
   "outputs": [],
   "source": [
    "10.todo list....."
   ]
  },
  {
   "cell_type": "code",
   "execution_count": null,
   "id": "950ec44e-37d4-434f-92cf-7ab2f5c28bb7",
   "metadata": {},
   "outputs": [],
   "source": [
    "from  tkinter import * \n",
    "import tkinter.messagebox\n",
    "window=Tk()\n",
    "#giving a title\n",
    "window.title(\"DataFlair Python To-Do List APP\")\n",
    "window.mainloop()\n",
    "window=Tk()\n",
    "#giving a title\n",
    "window.title(\"DataFlair Python To-Do List APP\")\n",
    "#Frame widget to hold the listbox and the scrollbar\n",
    "frame_task=Frame(window)\n",
    "frame_task.pack()\n",
    "#to hold items in a listbox\n",
    "listbox_task=Listbox(frame_task,bg=\"black\",fg=\"white\",height=15,width=50,font = \"Helvetica\")  \n",
    "listbox_task.pack(side=tkinter.LEFT)\n",
    "#Scrolldown in case the total list exceeds the size of the given window \n",
    "scrollbar_task=Scrollbar(frame_task)\n",
    "scrollbar_task.pack(side=tkinter.RIGHT,fill=tkinter.Y)\n",
    "listbox_task.config(yscrollcomman#importing packages \n",
    "d=scrollbar_task.set)\n",
    "scrollbar_task.config(command=listbox_task.yview)\n",
    "#Button widget \n",
    "entry_button=Button(window,text=\"Add task\",width=50,command=entertask)\n",
    "entry_button.pack(pady=3)\n",
    "delete_button=Button(window,text=\"Delete selected task\",width=50,command=deletetask)\n",
    "delete_button.pack(pady=3)\n",
    "mark_button=Button(window,text=\"Mark as completed \",width=50,command=markcompleted)\n",
    "mark_button.pack(pady=3)\n",
    "window.mainloop()"
   ]
  },
  {
   "cell_type": "code",
   "execution_count": null,
   "id": "d3f52bfc-4133-435a-a7f8-68dffab152f2",
   "metadata": {},
   "outputs": [],
   "source": []
  }
 ],
 "metadata": {
  "kernelspec": {
   "display_name": "Python 3 (ipykernel)",
   "language": "python",
   "name": "python3"
  },
  "language_info": {
   "codemirror_mode": {
    "name": "ipython",
    "version": 3
   },
   "file_extension": ".py",
   "mimetype": "text/x-python",
   "name": "python",
   "nbconvert_exporter": "python",
   "pygments_lexer": "ipython3",
   "version": "3.10.8"
  }
 },
 "nbformat": 4,
 "nbformat_minor": 5
}
